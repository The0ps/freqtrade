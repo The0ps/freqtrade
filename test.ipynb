import os 
path = os.path.join(self.config['user_data_dir'], 'backtest_results', 'training_data.csv')